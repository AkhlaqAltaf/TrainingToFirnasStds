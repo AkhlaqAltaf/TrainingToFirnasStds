{
 "cells": [
  {
   "cell_type": "markdown",
   "metadata": {},
   "source": [
    "# I am Zulqarnain I am working on AI "
   ]
  },
  {
   "cell_type": "code",
   "execution_count": 4,
   "metadata": {},
   "outputs": [
    {
     "name": "stdout",
     "output_type": "stream",
     "text": [
      "[('C', 10150), ('D', 7650), ('A', 6700), ('B', 3225)]\n"
     ]
    }
   ],
   "source": [
    "\n",
    "\n",
    "           #1=I will rank number of user engage at no 1 which is a3\n",
    "           #2=I will rank positive feedback at no2 which is a1\n",
    "           #3=I will rank time spent on no3 which is a4\n",
    "           #4=i will rank negative feedback at last and low ranking which is a2\n",
    "\n",
    "pages={\n",
    "    'A':[200,50,500,100],\n",
    "    'B':[100,20,200,75],\n",
    "    'C':[400,150,500,250],\n",
    "    'D':[300,75,400,200]\n",
    "\n",
    "}\n",
    "#now we have apply weights according to our priorities\n",
    "\n",
    "w0=1\n",
    "w1=10\n",
    "w2=9\n",
    "w3=15\n",
    "\n",
    "#now we apply the algorithm that rank the pages \n",
    "#Now we will use list \n",
    "\n",
    "items = [(i, w0 * values[0] + w1 * values[1] + w2 * values[2] + w3 * values[3]) \n",
    "\n",
    "\n",
    "for i, values in pages.items()]\n",
    "\n",
    "\n",
    "def get_value(items):\n",
    "    return items[1]\n",
    "\n",
    "# Use the custom function in sorted()\n",
    "sorted_items = sorted(items, key=get_value, reverse=True)\n",
    "\n",
    "# Print the sorted list\n",
    "print(sorted_items)\n"
   ]
  }
 ],
 "metadata": {
  "kernelspec": {
   "display_name": "Python 3",
   "language": "python",
   "name": "python3"
  },
  "language_info": {
   "codemirror_mode": {
    "name": "ipython",
    "version": 3
   },
   "file_extension": ".py",
   "mimetype": "text/x-python",
   "name": "python",
   "nbconvert_exporter": "python",
   "pygments_lexer": "ipython3",
   "version": "3.12.4"
  }
 },
 "nbformat": 4,
 "nbformat_minor": 2
}
