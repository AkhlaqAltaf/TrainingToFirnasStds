{
 "cells": [
  {
   "cell_type": "code",
   "execution_count": null,
   "metadata": {},
   "outputs": [],
   "source": []
  },
  {
   "cell_type": "markdown",
   "metadata": {},
   "source": []
  },
  {
   "cell_type": "code",
   "execution_count": 149,
   "metadata": {},
   "outputs": [],
   "source": [
    "import pandas as pd\n",
    "import numpy as np\n",
    "df = pd.read_excel(\"FLD_DataSet.xlsx\")\n",
    "# df.isnull().sum()\n",
    "# df[\"moderl\"] = d\n",
    "\n"
   ]
  },
  {
   "cell_type": "code",
   "execution_count": 150,
   "metadata": {},
   "outputs": [
    {
     "name": "stdout",
     "output_type": "stream",
     "text": [
      "<class 'pandas.core.frame.DataFrame'>\n",
      "RangeIndex: 2501 entries, 0 to 2500\n",
      "Data columns (total 18 columns):\n",
      " #   Column              Non-Null Count  Dtype  \n",
      "---  ------              --------------  -----  \n",
      " 0   Origin URL          2469 non-null   object \n",
      " 1   Image Link          2501 non-null   object \n",
      " 2   Manufacturer        2501 non-null   object \n",
      " 3   Title               2501 non-null   object \n",
      " 4   Model               2340 non-null   object \n",
      " 5   Revolver/Semi-Auto  2501 non-null   object \n",
      " 6   Combined            2501 non-null   object \n",
      " 7   Caliber             2501 non-null   object \n",
      " 8   Color               1850 non-null   object \n",
      " 9   Length              2501 non-null   float64\n",
      " 10  UPC/EAN             977 non-null    object \n",
      " 11  SKU                 1015 non-null   object \n",
      " 12  Item Number         349 non-null    object \n",
      " 13  MSRP                1774 non-null   object \n",
      " 14  Size                615 non-null    object \n",
      " 15  Grip Length         2475 non-null   object \n",
      " 16  Trigger Distance    2474 non-null   float64\n",
      " 17  Gun category        2500 non-null   float64\n",
      "dtypes: float64(3), object(15)\n",
      "memory usage: 351.8+ KB\n",
      "None\n",
      "            Length  Trigger Distance  Gun category\n",
      "count  2501.000000       2474.000000   2500.000000\n",
      "mean      8.514983          2.755873     53.801200\n",
      "std       2.536903          0.394747     28.552278\n",
      "min       2.500000          1.230000     10.000000\n",
      "25%       7.000000          2.580000     27.000000\n",
      "50%       8.000000          2.740000     55.000000\n",
      "75%       9.500000          2.860000     80.000000\n",
      "max      34.300000          6.660000    100.000000\n"
     ]
    }
   ],
   "source": [
    "print(df.info())\n",
    "print(df.describe())"
   ]
  },
  {
   "cell_type": "code",
   "execution_count": 159,
   "metadata": {},
   "outputs": [
    {
     "name": "stdout",
     "output_type": "stream",
     "text": [
      "0                                                   575\n",
      "1                                                   999\n",
      "2                                                   769\n",
      "3                                                   934\n",
      "4                                                   934\n",
      "5                                                   699\n",
      "6                                                   699\n",
      "7                                                   547\n",
      "8                                                   680\n",
      "9                                                   710\n",
      "10                                                  635\n",
      "11                                                  665\n",
      "12                                               289.99\n",
      "13                                               299.99\n",
      "14                                               249.99\n",
      "15                                               259.99\n",
      "16                                               239.99\n",
      "17                                               249.99\n",
      "18                                               239.99\n",
      "19                                               249.99\n",
      "20                                               249.99\n",
      "21                                               259.99\n",
      "22    <bound method Series.mean of 0        575\\n1  ...\n",
      "Name: MSRP, dtype: object\n"
     ]
    }
   ],
   "source": [
    "df['MSRP']=df['MSRP'].astype(str).str.replace('$','')\n",
    "df['MSRP']=df['MSRP'].astype(str).str.replace(',','')\n",
    "df['MSRP']=df['MSRP'].astype(str).str.replace('Private Label','')\n",
    "\n",
    "df['MSRP'] = df[\"MSRP\"].replace('nan',\"0000\")\n",
    "df['MSRP']=df['MSRP'].replace(\"0000\",df[\"MSRP\"].mean)\n",
    "print(df[\"MSRP\"].head(23))\n",
    "# df[\"MSRP\"] = pd.to_numeric(df[\"MSRP\"])\n",
    "df[\"MSRP\"] = df[\"MSRP\"].fillna(df[\"MSRP\"].mean)"
   ]
  },
  {
   "cell_type": "code",
   "execution_count": 152,
   "metadata": {},
   "outputs": [
    {
     "data": {
      "text/plain": [
       "np.int64(2501)"
      ]
     },
     "execution_count": 152,
     "metadata": {},
     "output_type": "execute_result"
    }
   ],
   "source": [
    "df[\"Length\"].value_counts().sum()\n",
    "# np.shape(df)"
   ]
  },
  {
   "cell_type": "code",
   "execution_count": 153,
   "metadata": {},
   "outputs": [],
   "source": [
    "\n",
    "df[\"Grip Length\"] = pd.to_numeric(df[\"Grip Length\"],errors='coerce')\n",
    "\n",
    "df[\"Grip Length\"]= df[\"Grip Length\"].fillna(df[\"Grip Length\"].mean())\n",
    "dummy = df[\"Grip Length\"].isnull().sum()\n"
   ]
  },
  {
   "cell_type": "code",
   "execution_count": 154,
   "metadata": {},
   "outputs": [],
   "source": [
    "\n",
    "df[\"Trigger Distance\"] = df[\"Trigger Distance\"].fillna(df[\"Trigger Distance\"].mean())\n"
   ]
  },
  {
   "cell_type": "code",
   "execution_count": 155,
   "metadata": {},
   "outputs": [
    {
     "name": "stdout",
     "output_type": "stream",
     "text": [
      "0\n"
     ]
    }
   ],
   "source": [
    "dummy = df[\"Length\"].isnull().sum()\n",
    "print(dummy)"
   ]
  },
  {
   "cell_type": "code",
   "execution_count": 156,
   "metadata": {},
   "outputs": [],
   "source": [
    "df.head()\n",
    "numerical_data = df.select_dtypes(exclude=[\"object\"]\n",
    ")\n",
    "categorical_data = df.select_dtypes(include=[\"object\",\"bool\"])\n"
   ]
  },
  {
   "cell_type": "code",
   "execution_count": 157,
   "metadata": {},
   "outputs": [],
   "source": [
    "df[\"Gun category\"] = df[\"Gun category\"].dropna()"
   ]
  },
  {
   "cell_type": "code",
   "execution_count": 160,
   "metadata": {},
   "outputs": [
    {
     "name": "stdout",
     "output_type": "stream",
     "text": [
      "0        575\n",
      "1        999\n",
      "2        769\n",
      "3        934\n",
      "4        934\n",
      "        ... \n",
      "2496    1409\n",
      "2497    1379\n",
      "2498    1379\n",
      "2499     919\n",
      "2500     824\n",
      "Name: MSRP, Length: 2501, dtype: object\n"
     ]
    }
   ],
   "source": [
    "from sklearn.preprocessing import LabelEncoder\n",
    "le = LabelEncoder()\n",
    "df[\"MSRP_encoder\"] = le.fit_transform(df[\"MSRP\"])\n",
    "print(df[\"MSRP\"])\n",
    " "
   ]
  },
  {
   "cell_type": "code",
   "execution_count": 161,
   "metadata": {},
   "outputs": [
    {
     "name": "stdout",
     "output_type": "stream",
     "text": [
      "0       880\n",
      "1       878\n",
      "2       879\n",
      "3       870\n",
      "4       871\n",
      "       ... \n",
      "2496    201\n",
      "2497    202\n",
      "2498    203\n",
      "2499    204\n",
      "2500    205\n",
      "Name: Origin URL, Length: 2501, dtype: int64\n"
     ]
    }
   ],
   "source": [
    "df['Origin URL'] = le.fit_transform(df['Origin URL'])\n",
    "print(df['Origin URL'])\n",
    "# \n"
   ]
  },
  {
   "cell_type": "code",
   "execution_count": 163,
   "metadata": {},
   "outputs": [
    {
     "data": {
      "text/plain": [
       "0        991\n",
       "1       1001\n",
       "2       1002\n",
       "3        993\n",
       "4        994\n",
       "        ... \n",
       "2496     875\n",
       "2497     886\n",
       "2498     887\n",
       "2499     885\n",
       "2500     888\n",
       "Name: Image Link, Length: 2501, dtype: int64"
      ]
     },
     "execution_count": 163,
     "metadata": {},
     "output_type": "execute_result"
    }
   ],
   "source": [
    "df[\"Image Link\"] = le.fit_transform(df[\"Image Link\"])\n",
    "df[\"Image Link\"]"
   ]
  }
 ],
 "metadata": {
  "kernelspec": {
   "display_name": "Python 3",
   "language": "python",
   "name": "python3"
  },
  "language_info": {
   "codemirror_mode": {
    "name": "ipython",
    "version": 3
   },
   "file_extension": ".py",
   "mimetype": "text/x-python",
   "name": "python",
   "nbconvert_exporter": "python",
   "pygments_lexer": "ipython3",
   "version": "3.12.4"
  }
 },
 "nbformat": 4,
 "nbformat_minor": 2
}
