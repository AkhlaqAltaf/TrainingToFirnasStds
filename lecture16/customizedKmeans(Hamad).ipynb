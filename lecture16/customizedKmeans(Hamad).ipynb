{
 "cells": [
  {
   "cell_type": "code",
   "execution_count": 1,
   "metadata": {},
   "outputs": [],
   "source": [
    "import pandas as pd "
   ]
  },
  {
   "cell_type": "code",
   "execution_count": 2,
   "metadata": {},
   "outputs": [
    {
     "data": {
      "text/plain": [
       "<matplotlib.collections.PathCollection at 0x15e54b71c40>"
      ]
     },
     "execution_count": 2,
     "metadata": {},
     "output_type": "execute_result"
    },
    {
     "data": {
      "image/png": "[encoded data removed]",
      "text/plain": [
       "<Figure size 640x480 with 1 Axes>"
      ]
     },
     "metadata": {},
     "output_type": "display_data"
    }
   ],
   "source": [
    "from sklearn.datasets import make_blobs\n",
    "import matplotlib.pyplot as plt\n",
    "centroids = [(-5,-5),(5,5)]\n",
    "cluster_std = [1,1]\n",
    "X,y = make_blobs(n_samples=200,centers=centroids,cluster_std=cluster_std,n_features=2,random_state=2)\n",
    "plt.scatter(X[:,0],X[:,1])"
   ]
  },
  {
   "cell_type": "code",
   "execution_count": 3,
   "metadata": {},
   "outputs": [
    {
     "data": {
      "text/html": [
       "<div>\n",
       "<style scoped>\n",
       "    .dataframe tbody tr th:only-of-type {\n",
       "        vertical-align: middle;\n",
       "    }\n",
       "\n",
       "    .dataframe tbody tr th {\n",
       "        vertical-align: top;\n",
       "    }\n",
       "\n",
       "    .dataframe thead th {\n",
       "        text-align: right;\n",
       "    }\n",
       "</style>\n",
       "<table border=\"1\" class=\"dataframe\">\n",
       "  <thead>\n",
       "    <tr style=\"text-align: right;\">\n",
       "      <th></th>\n",
       "      <th>0</th>\n",
       "      <th>1</th>\n",
       "    </tr>\n",
       "  </thead>\n",
       "  <tbody>\n",
       "    <tr>\n",
       "      <th>0</th>\n",
       "      <td>5.931887</td>\n",
       "      <td>6.468332</td>\n",
       "    </tr>\n",
       "    <tr>\n",
       "      <th>1</th>\n",
       "      <td>6.383781</td>\n",
       "      <td>5.148349</td>\n",
       "    </tr>\n",
       "    <tr>\n",
       "      <th>2</th>\n",
       "      <td>-5.189469</td>\n",
       "      <td>-5.077219</td>\n",
       "    </tr>\n",
       "    <tr>\n",
       "      <th>3</th>\n",
       "      <td>-5.114421</td>\n",
       "      <td>-5.498174</td>\n",
       "    </tr>\n",
       "    <tr>\n",
       "      <th>4</th>\n",
       "      <td>3.900703</td>\n",
       "      <td>4.318469</td>\n",
       "    </tr>\n",
       "    <tr>\n",
       "      <th>...</th>\n",
       "      <td>...</td>\n",
       "      <td>...</td>\n",
       "    </tr>\n",
       "    <tr>\n",
       "      <th>195</th>\n",
       "      <td>3.285933</td>\n",
       "      <td>4.923360</td>\n",
       "    </tr>\n",
       "    <tr>\n",
       "      <th>196</th>\n",
       "      <td>6.451170</td>\n",
       "      <td>3.935072</td>\n",
       "    </tr>\n",
       "    <tr>\n",
       "      <th>197</th>\n",
       "      <td>-4.999990</td>\n",
       "      <td>-4.457647</td>\n",
       "    </tr>\n",
       "    <tr>\n",
       "      <th>198</th>\n",
       "      <td>3.389501</td>\n",
       "      <td>5.499940</td>\n",
       "    </tr>\n",
       "    <tr>\n",
       "      <th>199</th>\n",
       "      <td>-5.637655</td>\n",
       "      <td>-6.187612</td>\n",
       "    </tr>\n",
       "  </tbody>\n",
       "</table>\n",
       "<p>200 rows × 2 columns</p>\n",
       "</div>"
      ],
      "text/plain": [
       "            0         1\n",
       "0    5.931887  6.468332\n",
       "1    6.383781  5.148349\n",
       "2   -5.189469 -5.077219\n",
       "3   -5.114421 -5.498174\n",
       "4    3.900703  4.318469\n",
       "..        ...       ...\n",
       "195  3.285933  4.923360\n",
       "196  6.451170  3.935072\n",
       "197 -4.999990 -4.457647\n",
       "198  3.389501  5.499940\n",
       "199 -5.637655 -6.187612\n",
       "\n",
       "[200 rows x 2 columns]"
      ]
     },
     "execution_count": 3,
     "metadata": {},
     "output_type": "execute_result"
    }
   ],
   "source": [
    "df = pd.DataFrame(X)\n",
    "df"
   ]
  },
  {
   "cell_type": "code",
   "execution_count": 4,
   "metadata": {},
   "outputs": [],
   "source": [
    "import random\n",
    "import numpy as np"
   ]
  },
  {
   "cell_type": "code",
   "execution_count": 5,
   "metadata": {},
   "outputs": [
    {
     "data": {
      "text/plain": [
       "array([11.5732503 , 10.22556791])"
      ]
     },
     "execution_count": 5,
     "metadata": {},
     "output_type": "execute_result"
    }
   ],
   "source": [
    "\n",
    "\n",
    "X[1]-X[2]"
   ]
  },
  {
   "cell_type": "code",
   "execution_count": 93,
   "metadata": {},
   "outputs": [
    {
     "name": "stdout",
     "output_type": "stream",
     "text": [
      "[3, 2]\n",
      "centroids [array([5, 6]), array([3, 4])]\n",
      "Centroids moved to [array([6., 7.]), array([2., 3.])]\n",
      "centroids [array([6., 7.]), array([2., 3.])]\n",
      "Converged\n"
     ]
    }
   ],
   "source": [
    "class KMeansCluster:\n",
    "    def __init__(self):\n",
    "        self.X=None\n",
    "        self.cetroids =None\n",
    "    def fit(self,X):\n",
    "        self.X = X\n",
    "        self.centroids = self.pick_random_centroids(2)\n",
    "\n",
    "    def pick_random_centroids(self,k):\n",
    "        centroids = []\n",
    "        for i in range(k):\n",
    "            centroids.append(random.randint(0,len(self.X)-1))\n",
    "        return [self.X[centroids[0]],self.X[centroids[1]]]\n",
    "    \n",
    "    def calculate_euclidean_distance(self,val,cen):\n",
    "        distance = np.sqrt((val[0]-cen[0])**2 + (val[1]-cen[1])**2)\n",
    "        return distance\n",
    "    def decide_cluster(self,i,c):\n",
    "        if c[0][i]<c[1][i]:\n",
    "            return 1\n",
    "        else:\n",
    "            return 2\n",
    "    def loop_for_distance(self,c,centroids):\n",
    "        for i in range(len(self.X)):\n",
    "            for j in range(len(centroids)):\n",
    "                c[j][i] = self.calculate_euclidean_distance(self.X[i],centroids[j])\n",
    "        return c\n",
    "    def assign_cluster(self,centroids):\n",
    "        c = np.zeros((2, len(self.X)))\n",
    "        print(\"centroids\",centroids)\n",
    "        c = self.loop_for_distance(c,centroids)\n",
    "        for i in range(len(self.X)):\n",
    "            df.loc[i,\"cluter_id\"] = self.decide_cluster(i,c)\n",
    "        r=self.move_centroids(centroids[0],centroids[1],c)\n",
    "        if r ==0:\n",
    "            print(\"success\")\n",
    "        \n",
    "\n",
    "        \n",
    "\n",
    "\n",
    "\n",
    "    def move_centroids(self,centroid1,centroid2,c):\n",
    "        c1_distances=c[0]\n",
    "        c2_distances = c[1]\n",
    "\n",
    "        print(\"c old : \",c1_distances[0])\n",
    "        a=np.mean(c1_distances[0])\n",
    "        b=np.mean(c1_distances[1])\n",
    "        new_centroid1 = [a,b]\n",
    "        a=np.mean(c2_distances[0])\n",
    "        b=np.mean(c2_distances[1])\n",
    "        new_centroid2 = [a,b]\n",
    "        print(\"old1\",centroid1)\n",
    "        print(\"new1 inside fun\",new_centroid1)\n",
    "        if (centroid1[0] != new_centroid1[0] and centroid1[1] != new_centroid1[1]) or (centroid2[0] != new_centroid2[0] and centroid2[1] != new_centroid2[1]):\n",
    "            print(\"centroids moved---------------------------------------\")\n",
    "            c = self.loop_for_distance(c,[new_centroid1,new_centroid2])\n",
    "            print(\"newc\",c[0][0])\n",
    "            print([new_centroid1,new_centroid2])\n",
    "            # print(\"changed--------------------------------------\")\n",
    "            for i in range(len(self.X)):\n",
    "                df.loc[i,\"cluter_id\"] = self.decide_cluster(i,c)\n",
    "                # \n",
    "                # return 0\n",
    "            c=self.move_centroids(new_centroid1,new_centroid2,c)\n",
    "        else:\n",
    "            return 0\n",
    "\n",
    "\n",
    "\n",
    "           \n",
    "\n",
    "    \n",
    "\n",
    "        \n",
    "\n",
    "\n",
    "\n",
    "            \n",
    "        "
   ]
  },
  {
   "cell_type": "code",
   "execution_count": 94,
   "metadata": {},
   "outputs": [
    {
     "name": "stdout",
     "output_type": "stream",
     "text": [
      "[2, 0]\n",
      "centroids [array([3, 4]), array([1, 2])]\n",
      "Centroids moved to [array([5., 6.]), array([1.5, 2.5])]\n",
      "centroids [array([5., 6.]), array([1.5, 2.5])]\n",
      "Centroids moved to [array([6., 7.]), array([2., 3.])]\n",
      "centroids [array([6., 7.]), array([2., 3.])]\n",
      "Converged\n"
     ]
    }
   ],
   "source": [
    "obj = KMeansCluster()\n",
    "# centroids = obj.pick_random_centroids()\n",
    "# obj.assign_cluster(centroids)\n",
    "obj.fit(X)"
   ]
  },
  {
   "cell_type": "code",
   "execution_count": null,
   "metadata": {},
   "outputs": [],
   "source": [
    "import numpy as np\n",
    "import pandas as pd\n",
    "import random\n",
    "\n",
    "class KMeansCluster:\n",
    "    def __init__(self, X):\n",
    "        self.X = X\n",
    "        self.df = pd.DataFrame(X, columns=['Feature1', 'Feature2'])\n",
    "\n",
    "    def pick_random_centroids(self):\n",
    "        centroids = []\n",
    "        for i in range(2):\n",
    "            centroids.append(random.randint(0, len(self.X) - 1))\n",
    "        print(centroids)\n",
    "        return [self.X[centroids[0]], self.X[centroids[1]]]\n",
    "\n",
    "    def calculate_euclidean_distance(self, val, cen):\n",
    "        distance = np.sqrt((val[0] - cen[0]) ** 2 + (val[1] - cen[1]) ** 2)\n",
    "        return distance\n",
    "\n",
    "    def decide_cluster(self, i, c):\n",
    "        if c[0][i] < c[1][i]:\n",
    "            return 1\n",
    "        else:\n",
    "            return 2\n",
    "\n",
    "    def loop_for_distance(self, c, centroids):\n",
    "        for i in range(len(self.X)):\n",
    "            for j in range(len(centroids)):\n",
    "                c[j][i] = self.calculate_euclidean_distance(self.X[i], centroids[j])\n",
    "        return c\n",
    "\n",
    "    def assign_cluster(self, centroids):\n",
    "        c = np.zeros((2, len(self.X)))\n",
    "        print(\"centroids\", centroids)\n",
    "        c = self.loop_for_distance(c, centroids)\n",
    "        for i in range(len(self.X)):\n",
    "            self.df.loc[i, \"cluster_id\"] = self.decide_cluster(i, c)\n",
    "        self.move_centroids(centroids, c)\n",
    "\n",
    "    def move_centroids(self, centroids, c):\n",
    "        new_centroids = []\n",
    "        for cluster_id in range(2):\n",
    "            cluster_points = self.df[self.df['cluster_id'] == cluster_id + 1][['Feature1', 'Feature2']].values\n",
    "            if len(cluster_points) > 0:\n",
    "                new_centroids.append(np.mean(cluster_points, axis=0))\n",
    "            else:\n",
    "                new_centroids.append(centroids[cluster_id])\n",
    "\n",
    "        if not np.array_equal(centroids, new_centroids):\n",
    "            print(\"Centroids moved to\", new_centroids)\n",
    "            self.assign_cluster(new_centroids)\n",
    "        else:\n",
    "            print(\"Converged\")\n",
    "            return 0\n",
    "\n",
    "# Example usage:\n",
    "X = np.array([[1, 2], [2, 3], [3, 4], [5, 6], [7, 8]])  # Example dataset\n",
    "df = pd.DataFrame(X, columns=['Feature1', 'Feature2'])\n",
    "obj = KMeansCluster(X)\n",
    "initial_centroids = obj.pick_random_centroids()\n",
    "obj.assign_cluster(initial_centroids)\n"
   ]
  },
  {
   "cell_type": "code",
   "execution_count": null,
   "metadata": {},
   "outputs": [],
   "source": []
  }
 ],
 "metadata": {
  "kernelspec": {
   "display_name": "Python 3",
   "language": "python",
   "name": "python3"
  },
  "language_info": {
   "codemirror_mode": {
    "name": "ipython",
    "version": 3
   },
   "file_extension": ".py",
   "mimetype": "text/x-python",
   "name": "python",
   "nbconvert_exporter": "python",
   "pygments_lexer": "ipython3",
   "version": "3.12.2"
  }
 },
 "nbformat": 4,
 "nbformat_minor": 2
}
