{
 "cells": [
  {
   "cell_type": "code",
   "execution_count": 129,
   "metadata": {},
   "outputs": [],
   "source": [
    "# b_init = 785.1811367994083\n",
    "# w_init = np.array([ 0.39133535, 18.75376741, -53.36032453, -26.42131618])\n",
    "# print(f\"w_init shape: {w_init.shape}, b_init type: {type(b_init)}\")"
   ]
  },
  {
   "cell_type": "code",
   "execution_count": 374,
   "metadata": {},
   "outputs": [
    {
     "data": {
      "text/plain": [
       "(807,)"
      ]
     },
     "execution_count": 374,
     "metadata": {},
     "output_type": "execute_result"
    }
   ],
   "source": [
    "import pandas as pd \n",
    "import numpy as np\n",
    "df = pd.read_csv(\"Mobile-Price-Prediction-cleaned_data.csv\")\n",
    "df\n",
    "Y = np.array(df['Price'])\n",
    "Y.shape"
   ]
  },
  {
   "cell_type": "code",
   "execution_count": 289,
   "metadata": {},
   "outputs": [
    {
     "data": {
      "text/plain": [
       "Ratings              4.112639\n",
       "RAM                  5.941760\n",
       "ROM                 64.390335\n",
       "Mobile_Size          5.620660\n",
       "Primary_Cam         47.821561\n",
       "Selfi_Cam            8.868649\n",
       "Battery_Power     3278.859975\n",
       "Price            14269.167286\n",
       "dtype: float64"
      ]
     },
     "execution_count": 289,
     "metadata": {},
     "output_type": "execute_result"
    }
   ],
   "source": [
    "# mean =df['Price'].mean()\n",
    "# print(mean)\n",
    "mean1 = df.mean()\n",
    "mean1"
   ]
  },
  {
   "cell_type": "code",
   "execution_count": 290,
   "metadata": {},
   "outputs": [
    {
     "data": {
      "text/plain": [
       "10853.551706999999"
      ]
     },
     "execution_count": 290,
     "metadata": {},
     "output_type": "execute_result"
    }
   ],
   "source": [
    "14269.167286-(3278.859975+8.868649+47.821561+5.620660+64.390335+5.941760+4.112639)"
   ]
  },
  {
   "cell_type": "code",
   "execution_count": 375,
   "metadata": {},
   "outputs": [
    {
     "data": {
      "text/plain": [
       "(807, 7)"
      ]
     },
     "execution_count": 375,
     "metadata": {},
     "output_type": "execute_result"
    }
   ],
   "source": [
    "df = df.drop('Price',axis=1)\n",
    "df.shape"
   ]
  },
  {
   "cell_type": "code",
   "execution_count": 376,
   "metadata": {},
   "outputs": [
    {
     "data": {
      "text/plain": [
       "(807, 7)"
      ]
     },
     "execution_count": 376,
     "metadata": {},
     "output_type": "execute_result"
    }
   ],
   "source": [
    "X =np.array(df)\n",
    "X.shape"
   ]
  },
  {
   "cell_type": "code",
   "execution_count": 327,
   "metadata": {},
   "outputs": [],
   "source": [
    "from sklearn.model_selection import train_test_split\n",
    "from sklearn.preprocessing import StandardScaler\n",
    "\n",
    "scaler = StandardScaler()\n",
    "X_scaled = scaler.fit_transform(X)\n",
    "x_train, x_test, y_train, y_test = train_test_split(X_scaled, Y, test_size=0.3, random_state=42)"
   ]
  },
  {
   "cell_type": "code",
   "execution_count": 328,
   "metadata": {},
   "outputs": [
    {
     "data": {
      "text/plain": [
       "array([-1.12251586,  1.00153547, -0.00725054, -0.283356  ,  0.0160049 ,\n",
       "       -0.6312444 , -0.29759422])"
      ]
     },
     "execution_count": 328,
     "metadata": {},
     "output_type": "execute_result"
    }
   ],
   "source": [
    "\n",
    "x_train[1]"
   ]
  },
  {
   "cell_type": "code",
   "execution_count": 377,
   "metadata": {},
   "outputs": [
    {
     "ename": "ValueError",
     "evalue": "shapes (7,) and (1,7) not aligned: 7 (dim 0) != 1 (dim 0)",
     "output_type": "error",
     "traceback": [
      "\u001b[1;31m---------------------------------------------------------------------------\u001b[0m",
      "\u001b[1;31mValueError\u001b[0m                                Traceback (most recent call last)",
      "Cell \u001b[1;32mIn[377], line 4\u001b[0m\n\u001b[0;32m      1\u001b[0m sw \u001b[38;5;241m=\u001b[39m np\u001b[38;5;241m.\u001b[39marray([[\u001b[38;5;241m1\u001b[39m,\u001b[38;5;241m1\u001b[39m,\u001b[38;5;241m1\u001b[39m,\u001b[38;5;241m1\u001b[39m,\u001b[38;5;241m1\u001b[39m,\u001b[38;5;241m1\u001b[39m,\u001b[38;5;241m1\u001b[39m]])\n\u001b[0;32m      2\u001b[0m \u001b[38;5;66;03m# sw.reshape(7,1)\u001b[39;00m\n\u001b[0;32m      3\u001b[0m \u001b[38;5;66;03m# print(x_train[1])\u001b[39;00m\n\u001b[1;32m----> 4\u001b[0m \u001b[38;5;28mprint\u001b[39m(\u001b[43mnp\u001b[49m\u001b[38;5;241;43m.\u001b[39;49m\u001b[43mdot\u001b[49m\u001b[43m(\u001b[49m\u001b[43mx_train\u001b[49m\u001b[43m[\u001b[49m\u001b[38;5;241;43m1\u001b[39;49m\u001b[43m]\u001b[49m\u001b[43m,\u001b[49m\u001b[43msw\u001b[49m\u001b[43m)\u001b[49m)\n\u001b[0;32m      6\u001b[0m \u001b[38;5;66;03m# sw.shape\u001b[39;00m\n",
      "\u001b[1;31mValueError\u001b[0m: shapes (7,) and (1,7) not aligned: 7 (dim 0) != 1 (dim 0)"
     ]
    }
   ],
   "source": [
    "sw = np.array([[1,1,1,1,1,1,1]])\n",
    "# sw.reshape(7,1)\n",
    "# print(x_train[1])\n",
    "print(np.dot(x_train[1],sw))\n",
    "\n",
    "# sw.shape"
   ]
  },
  {
   "cell_type": "code",
   "execution_count": 381,
   "metadata": {},
   "outputs": [],
   "source": [
    "def predict(ws,b,xt):\n",
    "    y = [np.sum([w*x for w,x in zip(ws,row)])+b for row in xt]\n",
    "    \n",
    "    return y"
   ]
  },
  {
   "cell_type": "code",
   "execution_count": 390,
   "metadata": {},
   "outputs": [],
   "source": [
    "\n",
    "def gradient_function(w,b,x,y):\n",
    "    m,n = x.shape\n",
    "    \n",
    "    sumw = np.zeros(7)\n",
    "    sumb = 0\n",
    "\n",
    "    p=predict(w,b,x)\n",
    "    p = list(p)\n",
    "    y = list(y)\n",
    "    print(len(p),type(p))\n",
    "    print(len(y),type(y))\n",
    "    error =[p-a for p,a in zip(p,y)] \n",
    "    # print(f\"salam{error}\") \n",
    "    \n",
    "    print(sum(error))\n",
    "\n",
    "    sumw=np.dot(error,x)   \n",
    "    \n",
    "    sumb = sum(error)\n",
    "    dw = sumw/m\n",
    "    db = sumb/m\n",
    "    \n",
    "    return dw,db "
   ]
  },
  {
   "cell_type": "code",
   "execution_count": 391,
   "metadata": {},
   "outputs": [],
   "source": [
    "def compute_cost(x, y, w, b): \n",
    "    \"\"\"\n",
    "    compute cost\n",
    "    Args:\n",
    "      X (ndarray (m,n)): Data, m examples with n features\n",
    "      y (ndarray (m,)) : target values\n",
    "      w (ndarray (n,)) : model parameters  \n",
    "      b (scalar)       : model parameter\n",
    "      \n",
    "    Returns:\n",
    "      cost (scalar): cost\n",
    "    \"\"\"\n",
    "    m,_ = x.shape\n",
    "    cost = 0.0\n",
    "    for i in range(m):                                \n",
    "        f_wb_i = np.dot(x[i], w) + b           #(n,)(n,) = scalar (see np.dot)\n",
    "        cost = cost + (f_wb_i - y[i])**2       #scalar\n",
    "    cost = cost /m                      #scalar    \n",
    "    return cost"
   ]
  },
  {
   "cell_type": "code",
   "execution_count": 392,
   "metadata": {},
   "outputs": [],
   "source": [
    "def compute_gradient_decent(x,y,w,b,iterations,alfa):\n",
    "    import copy\n",
    "    w_in = copy.deepcopy(w)  #avoid modifying global w within function\n",
    "    b_in = b\n",
    "\n",
    "    for i in range(1000):\n",
    "        \n",
    "        dw,db = gradient_function(w_in,b_in,x,y)\n",
    "        w_in=w_in-(alfa*dw)\n",
    "        b_in=b_in-(alfa*db)\n",
    "        p=predict(w_in,b_in,x)\n",
    "\n",
    "        # cost =[(p[i]-y[i])**2 for i in range(len(p))] \n",
    "        # cost =sum(cost)*(1/(2*len(p)))\n",
    "        # print(\"cost\",cost)\n",
    "\n",
    "           \n",
    "    return w_in,b_in"
   ]
  },
  {
   "cell_type": "code",
   "execution_count": 334,
   "metadata": {},
   "outputs": [
    {
     "data": {
      "text/plain": [
       "(564,)"
      ]
     },
     "execution_count": 334,
     "metadata": {},
     "output_type": "execute_result"
    }
   ],
   "source": [
    "x_train.shape\n",
    "y_train.shape"
   ]
  },
  {
   "cell_type": "code",
   "execution_count": 393,
   "metadata": {},
   "outputs": [
    {
     "name": "stdout",
     "output_type": "stream",
     "text": [
      "564 <class 'list'>\n",
      "564 <class 'list'>\n",
      "-1650663.0689374073\n"
     ]
    },
    {
     "ename": "AttributeError",
     "evalue": "'list' object has no attribute 'T'",
     "output_type": "error",
     "traceback": [
      "\u001b[1;31m---------------------------------------------------------------------------\u001b[0m",
      "\u001b[1;31mAttributeError\u001b[0m                            Traceback (most recent call last)",
      "Cell \u001b[1;32mIn[393], line 9\u001b[0m\n\u001b[0;32m      5\u001b[0m alpha \u001b[38;5;241m=\u001b[39m \u001b[38;5;241m0.0000001\u001b[39m\n\u001b[0;32m      6\u001b[0m \u001b[38;5;66;03m# run gradient descent \u001b[39;00m\n\u001b[1;32m----> 9\u001b[0m w_final, b_final \u001b[38;5;241m=\u001b[39m \u001b[43mcompute_gradient_decent\u001b[49m\u001b[43m(\u001b[49m\u001b[43mx\u001b[49m\u001b[38;5;241;43m=\u001b[39;49m\u001b[43mx_train\u001b[49m\u001b[43m,\u001b[49m\u001b[43m \u001b[49m\u001b[43my\u001b[49m\u001b[38;5;241;43m=\u001b[39;49m\u001b[43my_train\u001b[49m\u001b[43m,\u001b[49m\u001b[43m \u001b[49m\u001b[43mw\u001b[49m\u001b[38;5;241;43m=\u001b[39;49m\u001b[43minitial_w\u001b[49m\u001b[43m,\u001b[49m\u001b[43m \u001b[49m\u001b[43mb\u001b[49m\u001b[38;5;241;43m=\u001b[39;49m\u001b[43minitial_b\u001b[49m\u001b[43m,\u001b[49m\u001b[43miterations\u001b[49m\u001b[38;5;241;43m=\u001b[39;49m\u001b[43miterations\u001b[49m\u001b[43m,\u001b[49m\u001b[43malfa\u001b[49m\u001b[38;5;241;43m=\u001b[39;49m\u001b[43malpha\u001b[49m\u001b[43m)\u001b[49m\n\u001b[0;32m     10\u001b[0m \u001b[38;5;66;03m# print(f\"b,w found by gradient descent: {b_final:0.2f},{w_final} \")\u001b[39;00m\n\u001b[0;32m     11\u001b[0m \n\u001b[0;32m     12\u001b[0m \u001b[38;5;66;03m# m,_ = x_train.shape\u001b[39;00m\n\u001b[0;32m     13\u001b[0m \u001b[38;5;66;03m# m,_ = x_test.shape\u001b[39;00m\n\u001b[0;32m     14\u001b[0m \u001b[38;5;66;03m# for i in range(m):\u001b[39;00m\n\u001b[0;32m     15\u001b[0m \u001b[38;5;66;03m#     print(f\"prediction: {np.dot(x_test[i], w_final) + b_final:0.2f}, target value: {y_test[i]}\")\u001b[39;00m\n",
      "Cell \u001b[1;32mIn[392], line 8\u001b[0m, in \u001b[0;36mcompute_gradient_decent\u001b[1;34m(x, y, w, b, iterations, alfa)\u001b[0m\n\u001b[0;32m      4\u001b[0m b_in \u001b[38;5;241m=\u001b[39m b\n\u001b[0;32m      6\u001b[0m \u001b[38;5;28;01mfor\u001b[39;00m i \u001b[38;5;129;01min\u001b[39;00m \u001b[38;5;28mrange\u001b[39m(\u001b[38;5;241m1000\u001b[39m):\n\u001b[1;32m----> 8\u001b[0m     dw,db \u001b[38;5;241m=\u001b[39m \u001b[43mgradient_function\u001b[49m\u001b[43m(\u001b[49m\u001b[43mw_in\u001b[49m\u001b[43m,\u001b[49m\u001b[43mb_in\u001b[49m\u001b[43m,\u001b[49m\u001b[43mx\u001b[49m\u001b[43m,\u001b[49m\u001b[43my\u001b[49m\u001b[43m)\u001b[49m\n\u001b[0;32m      9\u001b[0m     w_in\u001b[38;5;241m=\u001b[39mw_in\u001b[38;5;241m-\u001b[39m(alfa\u001b[38;5;241m*\u001b[39mdw)\n\u001b[0;32m     10\u001b[0m     b_in\u001b[38;5;241m=\u001b[39mb_in\u001b[38;5;241m-\u001b[39m(alfa\u001b[38;5;241m*\u001b[39mdb)\n",
      "Cell \u001b[1;32mIn[390], line 17\u001b[0m, in \u001b[0;36mgradient_function\u001b[1;34m(w, b, x, y)\u001b[0m\n\u001b[0;32m     13\u001b[0m \u001b[38;5;66;03m# print(f\"salam{error}\") \u001b[39;00m\n\u001b[0;32m     15\u001b[0m \u001b[38;5;28mprint\u001b[39m(\u001b[38;5;28msum\u001b[39m(error))\n\u001b[1;32m---> 17\u001b[0m sumw\u001b[38;5;241m=\u001b[39mnp\u001b[38;5;241m.\u001b[39mdot(\u001b[43merror\u001b[49m\u001b[38;5;241;43m.\u001b[39;49m\u001b[43mT\u001b[49m,x)   \n\u001b[0;32m     19\u001b[0m sumb \u001b[38;5;241m=\u001b[39m \u001b[38;5;28msum\u001b[39m(error)\n\u001b[0;32m     20\u001b[0m dw \u001b[38;5;241m=\u001b[39m sumw\u001b[38;5;241m/\u001b[39mm\n",
      "\u001b[1;31mAttributeError\u001b[0m: 'list' object has no attribute 'T'"
     ]
    }
   ],
   "source": [
    "\n",
    "\n",
    "\n",
    "\n",
    "\n",
    "\n",
    "initial_w = np.ones(7)\n",
    "initial_b = 10853.551706999999\n",
    "# some gradient descent settings\n",
    "iterations = 1000\n",
    "alpha = 0.0000001\n",
    "# run gradient descent \n",
    "\n",
    "\n",
    "w_final, b_final = compute_gradient_decent(x=x_train, y=y_train, w=initial_w, b=initial_b,iterations=iterations,alfa=alpha)\n",
    "# print(f\"b,w found by gradient descent: {b_final:0.2f},{w_final} \")\n",
    "\n",
    "# m,_ = x_train.shape\n",
    "# m,_ = x_test.shape\n",
    "# for i in range(m):\n",
    "#     print(f\"prediction: {np.dot(x_test[i], w_final) + b_final:0.2f}, target value: {y_test[i]}\")\n"
   ]
  },
  {
   "cell_type": "code",
   "execution_count": 360,
   "metadata": {},
   "outputs": [
    {
     "name": "stdout",
     "output_type": "stream",
     "text": [
      "[12793.1979965]\n",
      "[[2545.04336476 5738.52560751 6132.87927042 1363.73291608 4210.91443375\n",
      "  1124.44882714 3330.87538936]]\n"
     ]
    }
   ],
   "source": [
    "print(b_final)\n",
    "print(abs(w_final))"
   ]
  },
  {
   "cell_type": "code",
   "execution_count": 357,
   "metadata": {},
   "outputs": [],
   "source": [
    "yp = predict(w_final,b_final,x_train)\n",
    "# yp=list(yp)\n",
    "yp=yp[:20]\n",
    "yt =list(y_train)\n",
    "yt = yt[:20]"
   ]
  },
  {
   "cell_type": "code",
   "execution_count": 358,
   "metadata": {},
   "outputs": [
    {
     "data": {
      "text/plain": [
       "[<matplotlib.lines.Line2D at 0x217507a1820>]"
      ]
     },
     "execution_count": 358,
     "metadata": {},
     "output_type": "execute_result"
    },
    {
     "data": {
      "image/png": "[encoded data removed]",
      "text/plain": [
       "<Figure size 640x480 with 1 Axes>"
      ]
     },
     "metadata": {},
     "output_type": "display_data"
    }
   ],
   "source": [
    "import matplotlib.pyplot as plt\n",
    "# print(y_test)\n",
    "plt.plot(yp)\n",
    "plt.plot(yt)"
   ]
  },
  {
   "cell_type": "code",
   "execution_count": null,
   "metadata": {},
   "outputs": [
    {
     "name": "stdout",
     "output_type": "stream",
     "text": [
      "[4.3 3.4 4.3 4.4 4.5 4.7 4.4 4.5 4.4 4.5 3.9 3.8 4.5 3.8 4.5 4.6 4.1 4.5\n",
      " 4.5 4.3 4.1 3.7 3.8 3.8 4.5 3.8 3.7 3.6 3.9 4.5 4.  4.2 4.2 4.2 4.  3.9\n",
      " 3.9 3.6 3.6 3.8 4.1 3.9 4.1 4.3 4.3 3.8 4.  3.5 4.7 4.6 4.4 3.8 4.1 3.6\n",
      " 3.5 4.7 3.7 4.4 3.8 3.8 4.5 3.8 4.5 4.7 4.7 3.9 3.9 4.1 3.6 3.9 4.3 4.4\n",
      " 4.7 4.5 4.  4.  4.4 4.4 4.2 3.9 4.5 3.9 3.4 4.  4.  4.2 3.9 3.9 3.8 3.6\n",
      " 3.4 3.7 4.5 4.3 4.2 4.3 4.3 3.9 4.4 4.2 3.7 4.5 4.5 3.9 4.5 3.9 4.5 4.2\n",
      " 4.1 4.3 4.1 4.  4.1 4.3 3.7 3.7 3.5 4.3 3.9 3.5 4.3 3.8 4.4 4.  3.7 4.2\n",
      " 4.7 4.5 4.5 3.9 4.1 4.4 3.7 4.2 3.6 3.4 3.6 4.5 4.2 4.2 4.2 4.1 4.3 3.2\n",
      " 4.1 3.7 4.1 3.5 4.1 4.4 3.9 3.8 4.4 3.9 3.6 3.7 4.1 4.3 4.  4.4 3.5 3.4\n",
      " 4.4 4.2 4.2 4.6 4.2 4.4 4.4 3.8 4.1 4.  3.4 4.1 4.5 3.5 3.5 3.3 3.9 4.2\n",
      " 3.5 4.1 4.1 3.6 4.1 4.7 4.3 4.  3.4 3.7 4.4 4.  4.5 3.2 4.1 4.1 3.3 3.9\n",
      " 4.3 3.5 4.4 4.1 3.8 4.2 3.4 3.6 4.3 4.5 4.7 4.4 3.9 4.5 4.8 3.1 3.5 4.4\n",
      " 3.5 4.  3.9 4.3 3.5 4.6 4.5 4.4 4.1 3.2 4.2 3.7 4.1 4.  3.6 3.4 3.8 3.8\n",
      " 4.5 3.  3.4 3.9 3.4 4.1 4.5 3.5 3.5 4.1 3.9 3.5 4.6 4.5 4.5 4.5 4.4 4.4\n",
      " 4.5 4.5 4.4 4.4 4.5 4.4 4.3 4.3 4.3 4.3 4.3 4.3 4.3 4.4 4.3 4.4 4.3 3.4\n",
      " 4.3 4.4 4.5 4.7 4.4 4.5 4.4 4.5 3.9 3.8 4.5 3.8 4.5 4.6 4.1 4.5 4.5 4.3\n",
      " 4.1 3.7 3.8 3.8 4.5 4.5 3.9 4.  4.1 4.5 3.9 3.5 4.6 4.6 4.5 4.5 4.6 4.5\n",
      " 4.4 4.4 4.5 4.4 4.1 3.8 3.8 4.3 4.5 4.7 4.1 4.  3.  4.5 4.1 4.5 4.1 4.1\n",
      " 4.5 4.1 4.3 3.9 3.9 4.5 4.4 4.4 4.3 4.4 4.5 3.9 4.3 4.1 3.9 4.  3.7 4.3\n",
      " 4.4 3.6 4.1 4.5 3.9 3.9 4.  4.4 3.6 4.4 4.4 4.5 3.5 4.2 4.4 4.5 3.7 4.5\n",
      " 3.4 4.5 3.4 4.4 4.6 4.2 4.2 4.5 4.2 3.6 4.1 4.1 4.1 3.9 4.3 3.7 4.  4.4\n",
      " 4.3 4.1 4.1 4.1 4.  4.5 4.5 3.8 3.8 4.1 4.5 4.5 3.8 4.2 3.9 4.2 4.4 4.4\n",
      " 3.7 4.1 3.5 4.5 3.8 3.8 4.4 3.7 4.1 4.1 4.1 4.4 4.  3.4 4.5 4.6 4.  4.5\n",
      " 3.7 3.8 4.2 4.7 4.2 4.1 4.1 4.2 4.2 3.5 3.8 3.7 4.5 4.5 4.5 4.1 3.6 4.2\n",
      " 4.2 3.9 3.9 4.1 3.6 3.6 3.8 4.1 3.9 4.3 4.3 4.5 3.9 4.5 4.3 4.1 3.4 4.5\n",
      " 4.2 4.4 4.4 4.  3.8 4.7 4.6 4.4 3.6 3.8 4.4 3.7 3.5 3.8 3.8 4.5 4.7 4.7\n",
      " 4.1 3.6 4.2 4.4 3.6 4.5 4.2 4.3 4.5 4.1 3.8 3.8 4.4 3.9 4.7 4.3 4.4 4.5\n",
      " 4.2 4.3 4.4 4.5 3.9 4.  4.2 3.9 3.9 3.9 4.5 4.  3.8 4.5 3.9 4.2 4.  3.9\n",
      " 3.6 3.6 3.8 4.1 3.9 4.1 4.1 4.3 4.3 4.3 3.9 4.5 3.9 4.5 4.2 4.5 4.3 3.4\n",
      " 4.1 4.  3.8 4.7 3.7 4.4 3.5 4.5 3.8 4.5 3.8 4.7 3.9 3.9 4.7 4.1 4.1 4.6\n",
      " 4.2 3.6 3.6 4.4 4.3 4.5 4.2 3.7 3.9 4.5 4.4 4.5 4.  3.9 4.5 4.1 4.6 4.6\n",
      " 3.5 4.5 4.6 4.5 4.5 4.4 3.9 4.5 4.4 4.5 4.4 4.  4.1 3.8 3.8 4.5 4.7 4.1\n",
      " 4.  3.  4.1 4.1 4.1 4.5 4.5 4.3 4.4 4.4 4.5 3.9 3.9 4.4 4.5 3.9 4.3 4.1\n",
      " 3.7 4.3 3.9 4.  4.4 3.6 4.5 4.1 4.6 4.  3.9 3.9 4.5 4.4 3.6 4.4 4.4 3.5\n",
      " 4.4 4.2 4.5 3.4 3.4 4.5 3.7 4.4 4.2 4.2 4.2 3.6 3.9 4.1 4.1 4.1 4.3 3.7\n",
      " 4.6 4.3 4.4 4.  4.1 4.1 4.1 4.  4.5 4.5 3.8 4.5 4.5 3.9 4.3 4.5 3.7 4.5\n",
      " 4.1 4.5 4.1 4.3 3.4 4.4 4.5 3.7 4.5 4.4 4.5 3.9 4.4 3.8 3.8 4.5 4.1 4.5\n",
      " 3.8 3.8 3.  4.4 3.4 3.4 4.  4.4 4.2 4.6 4.6 3.5 3.5 4.  4.1 3.6 4.3 4.4\n",
      " 3.9 4.4 3.9 3.9 3.6 3.7 3.7 4.3 4.4 4.5 3.4 3.8 3.8 3.8 3.9 4.3 4.1 4.5\n",
      " 3.5 2.8 2.8 4.6 4.6 4.5 3.9 4.5 3.4 4.3 4.5 3.7 4.2 4.5 4.1 4.1 4.3 4.3\n",
      " 3.4 4.4 4.7 4.5 4.4 3.7 4.5 4.5 4.4 3.9 3.8 3.8 4.5 4.1 4.5 4.6 4.5 4.1\n",
      " 4.5 4.5 3.7 3.8 4.  4.2 3.8 4.7 4.7 4.1 4.2 4.1 4.2 4.2 4.2 3.5 3.5 3.6\n",
      " 3.8 3.7 4.5 4.5 4.5 3.9 4.3 4.3 4.5 4.2 4.1 4.3 4.5 3.4 4.1 4.4 4.2 4.4\n",
      " 4.1 3.8 4.  3.5 4.7 4.4 4.6 4.1 3.6 4.3 3.9 4.3 4.1 4.2 4.5 3.4 4.1 4.2\n",
      " 4.4 4.4 4.  3.8 4.1 3.5 4.7 4.6 4.4 3.6 3.8 4.1 4.4 3.7 3.5]\n"
     ]
    },
    {
     "ename": "ValueError",
     "evalue": "x and y must be the same size",
     "output_type": "error",
     "traceback": [
      "\u001b[1;31m---------------------------------------------------------------------------\u001b[0m",
      "\u001b[1;31mValueError\u001b[0m                                Traceback (most recent call last)",
      "Cell \u001b[1;32mIn[316], line 7\u001b[0m\n\u001b[0;32m      5\u001b[0m x4 \u001b[38;5;241m=\u001b[39m X[:,\u001b[38;5;241m3\u001b[39m]\n\u001b[0;32m      6\u001b[0m \u001b[38;5;28mprint\u001b[39m(x1)\n\u001b[1;32m----> 7\u001b[0m \u001b[43mplt\u001b[49m\u001b[38;5;241;43m.\u001b[39;49m\u001b[43mscatter\u001b[49m\u001b[43m(\u001b[49m\u001b[43mx1\u001b[49m\u001b[43m,\u001b[49m\u001b[43my\u001b[49m\u001b[43m)\u001b[49m\n\u001b[0;32m      8\u001b[0m plt\u001b[38;5;241m.\u001b[39mscatter(x2,y)\n\u001b[0;32m      9\u001b[0m plt\u001b[38;5;241m.\u001b[39mscatter(x3,y)\n",
      "File \u001b[1;32m~\\AppData\\Roaming\\Python\\Python312\\site-packages\\matplotlib\\pyplot.py:3903\u001b[0m, in \u001b[0;36mscatter\u001b[1;34m(x, y, s, c, marker, cmap, norm, vmin, vmax, alpha, linewidths, edgecolors, plotnonfinite, data, **kwargs)\u001b[0m\n\u001b[0;32m   3884\u001b[0m \u001b[38;5;129m@_copy_docstring_and_deprecators\u001b[39m(Axes\u001b[38;5;241m.\u001b[39mscatter)\n\u001b[0;32m   3885\u001b[0m \u001b[38;5;28;01mdef\u001b[39;00m \u001b[38;5;21mscatter\u001b[39m(\n\u001b[0;32m   3886\u001b[0m     x: \u001b[38;5;28mfloat\u001b[39m \u001b[38;5;241m|\u001b[39m ArrayLike,\n\u001b[1;32m   (...)\u001b[0m\n\u001b[0;32m   3901\u001b[0m     \u001b[38;5;241m*\u001b[39m\u001b[38;5;241m*\u001b[39mkwargs,\n\u001b[0;32m   3902\u001b[0m ) \u001b[38;5;241m-\u001b[39m\u001b[38;5;241m>\u001b[39m PathCollection:\n\u001b[1;32m-> 3903\u001b[0m     __ret \u001b[38;5;241m=\u001b[39m \u001b[43mgca\u001b[49m\u001b[43m(\u001b[49m\u001b[43m)\u001b[49m\u001b[38;5;241;43m.\u001b[39;49m\u001b[43mscatter\u001b[49m\u001b[43m(\u001b[49m\n\u001b[0;32m   3904\u001b[0m \u001b[43m        \u001b[49m\u001b[43mx\u001b[49m\u001b[43m,\u001b[49m\n\u001b[0;32m   3905\u001b[0m \u001b[43m        \u001b[49m\u001b[43my\u001b[49m\u001b[43m,\u001b[49m\n\u001b[0;32m   3906\u001b[0m \u001b[43m        \u001b[49m\u001b[43ms\u001b[49m\u001b[38;5;241;43m=\u001b[39;49m\u001b[43ms\u001b[49m\u001b[43m,\u001b[49m\n\u001b[0;32m   3907\u001b[0m \u001b[43m        \u001b[49m\u001b[43mc\u001b[49m\u001b[38;5;241;43m=\u001b[39;49m\u001b[43mc\u001b[49m\u001b[43m,\u001b[49m\n\u001b[0;32m   3908\u001b[0m \u001b[43m        \u001b[49m\u001b[43mmarker\u001b[49m\u001b[38;5;241;43m=\u001b[39;49m\u001b[43mmarker\u001b[49m\u001b[43m,\u001b[49m\n\u001b[0;32m   3909\u001b[0m \u001b[43m        \u001b[49m\u001b[43mcmap\u001b[49m\u001b[38;5;241;43m=\u001b[39;49m\u001b[43mcmap\u001b[49m\u001b[43m,\u001b[49m\n\u001b[0;32m   3910\u001b[0m \u001b[43m        \u001b[49m\u001b[43mnorm\u001b[49m\u001b[38;5;241;43m=\u001b[39;49m\u001b[43mnorm\u001b[49m\u001b[43m,\u001b[49m\n\u001b[0;32m   3911\u001b[0m \u001b[43m        \u001b[49m\u001b[43mvmin\u001b[49m\u001b[38;5;241;43m=\u001b[39;49m\u001b[43mvmin\u001b[49m\u001b[43m,\u001b[49m\n\u001b[0;32m   3912\u001b[0m \u001b[43m        \u001b[49m\u001b[43mvmax\u001b[49m\u001b[38;5;241;43m=\u001b[39;49m\u001b[43mvmax\u001b[49m\u001b[43m,\u001b[49m\n\u001b[0;32m   3913\u001b[0m \u001b[43m        \u001b[49m\u001b[43malpha\u001b[49m\u001b[38;5;241;43m=\u001b[39;49m\u001b[43malpha\u001b[49m\u001b[43m,\u001b[49m\n\u001b[0;32m   3914\u001b[0m \u001b[43m        \u001b[49m\u001b[43mlinewidths\u001b[49m\u001b[38;5;241;43m=\u001b[39;49m\u001b[43mlinewidths\u001b[49m\u001b[43m,\u001b[49m\n\u001b[0;32m   3915\u001b[0m \u001b[43m        \u001b[49m\u001b[43medgecolors\u001b[49m\u001b[38;5;241;43m=\u001b[39;49m\u001b[43medgecolors\u001b[49m\u001b[43m,\u001b[49m\n\u001b[0;32m   3916\u001b[0m \u001b[43m        \u001b[49m\u001b[43mplotnonfinite\u001b[49m\u001b[38;5;241;43m=\u001b[39;49m\u001b[43mplotnonfinite\u001b[49m\u001b[43m,\u001b[49m\n\u001b[0;32m   3917\u001b[0m \u001b[43m        \u001b[49m\u001b[38;5;241;43m*\u001b[39;49m\u001b[38;5;241;43m*\u001b[39;49m\u001b[43m(\u001b[49m\u001b[43m{\u001b[49m\u001b[38;5;124;43m\"\u001b[39;49m\u001b[38;5;124;43mdata\u001b[39;49m\u001b[38;5;124;43m\"\u001b[39;49m\u001b[43m:\u001b[49m\u001b[43m \u001b[49m\u001b[43mdata\u001b[49m\u001b[43m}\u001b[49m\u001b[43m \u001b[49m\u001b[38;5;28;43;01mif\u001b[39;49;00m\u001b[43m \u001b[49m\u001b[43mdata\u001b[49m\u001b[43m \u001b[49m\u001b[38;5;129;43;01mis\u001b[39;49;00m\u001b[43m \u001b[49m\u001b[38;5;129;43;01mnot\u001b[39;49;00m\u001b[43m \u001b[49m\u001b[38;5;28;43;01mNone\u001b[39;49;00m\u001b[43m \u001b[49m\u001b[38;5;28;43;01melse\u001b[39;49;00m\u001b[43m \u001b[49m\u001b[43m{\u001b[49m\u001b[43m}\u001b[49m\u001b[43m)\u001b[49m\u001b[43m,\u001b[49m\n\u001b[0;32m   3918\u001b[0m \u001b[43m        \u001b[49m\u001b[38;5;241;43m*\u001b[39;49m\u001b[38;5;241;43m*\u001b[39;49m\u001b[43mkwargs\u001b[49m\u001b[43m,\u001b[49m\n\u001b[0;32m   3919\u001b[0m \u001b[43m    \u001b[49m\u001b[43m)\u001b[49m\n\u001b[0;32m   3920\u001b[0m     sci(__ret)\n\u001b[0;32m   3921\u001b[0m     \u001b[38;5;28;01mreturn\u001b[39;00m __ret\n",
      "File \u001b[1;32m~\\AppData\\Roaming\\Python\\Python312\\site-packages\\matplotlib\\__init__.py:1486\u001b[0m, in \u001b[0;36m_preprocess_data.<locals>.inner\u001b[1;34m(ax, data, *args, **kwargs)\u001b[0m\n\u001b[0;32m   1483\u001b[0m \u001b[38;5;129m@functools\u001b[39m\u001b[38;5;241m.\u001b[39mwraps(func)\n\u001b[0;32m   1484\u001b[0m \u001b[38;5;28;01mdef\u001b[39;00m \u001b[38;5;21minner\u001b[39m(ax, \u001b[38;5;241m*\u001b[39margs, data\u001b[38;5;241m=\u001b[39m\u001b[38;5;28;01mNone\u001b[39;00m, \u001b[38;5;241m*\u001b[39m\u001b[38;5;241m*\u001b[39mkwargs):\n\u001b[0;32m   1485\u001b[0m     \u001b[38;5;28;01mif\u001b[39;00m data \u001b[38;5;129;01mis\u001b[39;00m \u001b[38;5;28;01mNone\u001b[39;00m:\n\u001b[1;32m-> 1486\u001b[0m         \u001b[38;5;28;01mreturn\u001b[39;00m \u001b[43mfunc\u001b[49m\u001b[43m(\u001b[49m\n\u001b[0;32m   1487\u001b[0m \u001b[43m            \u001b[49m\u001b[43max\u001b[49m\u001b[43m,\u001b[49m\n\u001b[0;32m   1488\u001b[0m \u001b[43m            \u001b[49m\u001b[38;5;241;43m*\u001b[39;49m\u001b[38;5;28;43mmap\u001b[39;49m\u001b[43m(\u001b[49m\u001b[43msanitize_sequence\u001b[49m\u001b[43m,\u001b[49m\u001b[43m \u001b[49m\u001b[43margs\u001b[49m\u001b[43m)\u001b[49m\u001b[43m,\u001b[49m\n\u001b[0;32m   1489\u001b[0m \u001b[43m            \u001b[49m\u001b[38;5;241;43m*\u001b[39;49m\u001b[38;5;241;43m*\u001b[39;49m\u001b[43m{\u001b[49m\u001b[43mk\u001b[49m\u001b[43m:\u001b[49m\u001b[43m \u001b[49m\u001b[43msanitize_sequence\u001b[49m\u001b[43m(\u001b[49m\u001b[43mv\u001b[49m\u001b[43m)\u001b[49m\u001b[43m \u001b[49m\u001b[38;5;28;43;01mfor\u001b[39;49;00m\u001b[43m \u001b[49m\u001b[43mk\u001b[49m\u001b[43m,\u001b[49m\u001b[43m \u001b[49m\u001b[43mv\u001b[49m\u001b[43m \u001b[49m\u001b[38;5;129;43;01min\u001b[39;49;00m\u001b[43m \u001b[49m\u001b[43mkwargs\u001b[49m\u001b[38;5;241;43m.\u001b[39;49m\u001b[43mitems\u001b[49m\u001b[43m(\u001b[49m\u001b[43m)\u001b[49m\u001b[43m}\u001b[49m\u001b[43m)\u001b[49m\n\u001b[0;32m   1491\u001b[0m     bound \u001b[38;5;241m=\u001b[39m new_sig\u001b[38;5;241m.\u001b[39mbind(ax, \u001b[38;5;241m*\u001b[39margs, \u001b[38;5;241m*\u001b[39m\u001b[38;5;241m*\u001b[39mkwargs)\n\u001b[0;32m   1492\u001b[0m     auto_label \u001b[38;5;241m=\u001b[39m (bound\u001b[38;5;241m.\u001b[39marguments\u001b[38;5;241m.\u001b[39mget(label_namer)\n\u001b[0;32m   1493\u001b[0m                   \u001b[38;5;129;01mor\u001b[39;00m bound\u001b[38;5;241m.\u001b[39mkwargs\u001b[38;5;241m.\u001b[39mget(label_namer))\n",
      "File \u001b[1;32m~\\AppData\\Roaming\\Python\\Python312\\site-packages\\matplotlib\\axes\\_axes.py:4787\u001b[0m, in \u001b[0;36mAxes.scatter\u001b[1;34m(self, x, y, s, c, marker, cmap, norm, vmin, vmax, alpha, linewidths, edgecolors, plotnonfinite, **kwargs)\u001b[0m\n\u001b[0;32m   4785\u001b[0m y \u001b[38;5;241m=\u001b[39m np\u001b[38;5;241m.\u001b[39mma\u001b[38;5;241m.\u001b[39mravel(y)\n\u001b[0;32m   4786\u001b[0m \u001b[38;5;28;01mif\u001b[39;00m x\u001b[38;5;241m.\u001b[39msize \u001b[38;5;241m!=\u001b[39m y\u001b[38;5;241m.\u001b[39msize:\n\u001b[1;32m-> 4787\u001b[0m     \u001b[38;5;28;01mraise\u001b[39;00m \u001b[38;5;167;01mValueError\u001b[39;00m(\u001b[38;5;124m\"\u001b[39m\u001b[38;5;124mx and y must be the same size\u001b[39m\u001b[38;5;124m\"\u001b[39m)\n\u001b[0;32m   4789\u001b[0m \u001b[38;5;28;01mif\u001b[39;00m s \u001b[38;5;129;01mis\u001b[39;00m \u001b[38;5;28;01mNone\u001b[39;00m:\n\u001b[0;32m   4790\u001b[0m     s \u001b[38;5;241m=\u001b[39m (\u001b[38;5;241m20\u001b[39m \u001b[38;5;28;01mif\u001b[39;00m mpl\u001b[38;5;241m.\u001b[39mrcParams[\u001b[38;5;124m'\u001b[39m\u001b[38;5;124m_internal.classic_mode\u001b[39m\u001b[38;5;124m'\u001b[39m] \u001b[38;5;28;01melse\u001b[39;00m\n\u001b[0;32m   4791\u001b[0m          mpl\u001b[38;5;241m.\u001b[39mrcParams[\u001b[38;5;124m'\u001b[39m\u001b[38;5;124mlines.markersize\u001b[39m\u001b[38;5;124m'\u001b[39m] \u001b[38;5;241m*\u001b[39m\u001b[38;5;241m*\u001b[39m \u001b[38;5;241m2.0\u001b[39m)\n",
      "\u001b[1;31mValueError\u001b[0m: x and y must be the same size"
     ]
    },
    {
     "data": {
      "image/png": "[encoded data removed]",
      "text/plain": [
       "<Figure size 640x480 with 1 Axes>"
      ]
     },
     "metadata": {},
     "output_type": "display_data"
    }
   ],
   "source": [
    "import matplotlib.pyplot as plt\n",
    "x1 = X[:,0]\n",
    "x2 = X[:,1]\n",
    "x3 = X[:,2]\n",
    "x4 = X[:,3]\n",
    "print(x1)\n",
    "plt.scatter(x1,y)\n",
    "plt.scatter(x2,y)\n",
    "plt.scatter(x3,y)\n",
    "plt.scatter(x4,y)\n",
    "plt.plot(x1,y_predict)\n",
    "\n",
    "\n"
   ]
  },
  {
   "cell_type": "code",
   "execution_count": null,
   "metadata": {},
   "outputs": [],
   "source": []
  },
  {
   "cell_type": "code",
   "execution_count": null,
   "metadata": {},
   "outputs": [],
   "source": []
  }
 ],
 "metadata": {
  "kernelspec": {
   "display_name": "Python 3",
   "language": "python",
   "name": "python3"
  },
  "language_info": {
   "codemirror_mode": {
    "name": "ipython",
    "version": 3
   },
   "file_extension": ".py",
   "mimetype": "text/x-python",
   "name": "python",
   "nbconvert_exporter": "python",
   "pygments_lexer": "ipython3",
   "version": "3.12.4"
  }
 },
 "nbformat": 4,
 "nbformat_minor": 2
}
