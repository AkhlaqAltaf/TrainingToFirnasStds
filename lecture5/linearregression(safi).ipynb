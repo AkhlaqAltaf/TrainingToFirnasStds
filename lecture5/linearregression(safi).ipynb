{
 "cells": [
  {
   "cell_type": "code",
   "execution_count": 66,
   "metadata": {},
   "outputs": [
    {
     "data": {
      "text/html": [
       "<div>\n",
       "<style scoped>\n",
       "    .dataframe tbody tr th:only-of-type {\n",
       "        vertical-align: middle;\n",
       "    }\n",
       "\n",
       "    .dataframe tbody tr th {\n",
       "        vertical-align: top;\n",
       "    }\n",
       "\n",
       "    .dataframe thead th {\n",
       "        text-align: right;\n",
       "    }\n",
       "</style>\n",
       "<table border=\"1\" class=\"dataframe\">\n",
       "  <thead>\n",
       "    <tr style=\"text-align: right;\">\n",
       "      <th></th>\n",
       "      <th>TV</th>\n",
       "      <th>Sales</th>\n",
       "    </tr>\n",
       "  </thead>\n",
       "  <tbody>\n",
       "    <tr>\n",
       "      <th>0</th>\n",
       "      <td>230.1</td>\n",
       "      <td>22.1</td>\n",
       "    </tr>\n",
       "    <tr>\n",
       "      <th>1</th>\n",
       "      <td>44.5</td>\n",
       "      <td>10.4</td>\n",
       "    </tr>\n",
       "    <tr>\n",
       "      <th>2</th>\n",
       "      <td>17.2</td>\n",
       "      <td>9.3</td>\n",
       "    </tr>\n",
       "    <tr>\n",
       "      <th>3</th>\n",
       "      <td>151.5</td>\n",
       "      <td>18.5</td>\n",
       "    </tr>\n",
       "    <tr>\n",
       "      <th>4</th>\n",
       "      <td>180.8</td>\n",
       "      <td>12.9</td>\n",
       "    </tr>\n",
       "    <tr>\n",
       "      <th>...</th>\n",
       "      <td>...</td>\n",
       "      <td>...</td>\n",
       "    </tr>\n",
       "    <tr>\n",
       "      <th>195</th>\n",
       "      <td>38.2</td>\n",
       "      <td>7.6</td>\n",
       "    </tr>\n",
       "    <tr>\n",
       "      <th>196</th>\n",
       "      <td>94.2</td>\n",
       "      <td>9.7</td>\n",
       "    </tr>\n",
       "    <tr>\n",
       "      <th>197</th>\n",
       "      <td>177.0</td>\n",
       "      <td>12.8</td>\n",
       "    </tr>\n",
       "    <tr>\n",
       "      <th>198</th>\n",
       "      <td>283.6</td>\n",
       "      <td>25.5</td>\n",
       "    </tr>\n",
       "    <tr>\n",
       "      <th>199</th>\n",
       "      <td>232.1</td>\n",
       "      <td>13.4</td>\n",
       "    </tr>\n",
       "  </tbody>\n",
       "</table>\n",
       "<p>200 rows × 2 columns</p>\n",
       "</div>"
      ],
      "text/plain": [
       "        TV  Sales\n",
       "0    230.1   22.1\n",
       "1     44.5   10.4\n",
       "2     17.2    9.3\n",
       "3    151.5   18.5\n",
       "4    180.8   12.9\n",
       "..     ...    ...\n",
       "195   38.2    7.6\n",
       "196   94.2    9.7\n",
       "197  177.0   12.8\n",
       "198  283.6   25.5\n",
       "199  232.1   13.4\n",
       "\n",
       "[200 rows x 2 columns]"
      ]
     },
     "execution_count": 66,
     "metadata": {},
     "output_type": "execute_result"
    }
   ],
   "source": [
    "import pandas as pd\n",
    "df = pd.read_csv(\"tvmarketing.csv\")\n",
    "df"
   ]
  },
  {
   "cell_type": "code",
   "execution_count": 63,
   "metadata": {},
   "outputs": [
    {
     "name": "stderr",
     "output_type": "stream",
     "text": [
      "C:\\Users\\LAPTOP HOUSE\\AppData\\Local\\Temp\\ipykernel_13008\\252890043.py:12: RuntimeWarning: overflow encountered in scalar add\n",
      "  sumw += error * x[i]\n",
      "C:\\Users\\LAPTOP HOUSE\\AppData\\Local\\Temp\\ipykernel_13008\\252890043.py:15: RuntimeWarning: invalid value encountered in scalar subtract\n",
      "  w -= lr * (1/n) * sumw\n"
     ]
    },
    {
     "name": "stdout",
     "output_type": "stream",
     "text": [
      "nan nan\n"
     ]
    }
   ],
   "source": [
    "\n",
    "def gradient_decnt(x,y,a,b):\n",
    "    n = len(x)\n",
    "    lr = 0.01\n",
    "    w=0\n",
    "    b=0\n",
    "    sumw=0\n",
    "    sumb=0\n",
    "    tw=0\n",
    "    tb=0\n",
    "    for j in range(1000):\n",
    "        \n",
    "        for i in range(n):\n",
    "            yp =w*x[i] +b \n",
    "            sumw += (yp - y[i])*x[i]\n",
    "        \n",
    "           \n",
    "            \n",
    "        tw = w - (0.01)*(1/n)*(sumw)\n",
    "        for i in range(n):\n",
    "            yp =w*x[i] +b \n",
    "            sumb += (yp - y[i])\n",
    "        tb = b - (0.01)*(1/n)*(sumb)\n",
    "        w=tw\n",
    "        b= tb\n",
    "    \n",
    "    return w,b\n",
    "            \n",
    "            \n",
    "\n",
    "\n",
    "# def prediction(x,a,b):\n",
    "    # return[a*x +b  for i in x]\n",
    "\n",
    "a,b = gradient_decnt(x=df['TV'],y=df[\"Sales\"],a=0,b=0)\n",
    "print(a,b)"
   ]
  },
  {
   "cell_type": "code",
   "execution_count": 67,
   "metadata": {},
   "outputs": [
    {
     "name": "stdout",
     "output_type": "stream",
     "text": [
      "Iteration 0: w = 24.105416999999996, b = 0.14022500000000002\n",
      "Iteration 100: w = 2.539431460284663e+247, b = 1.2895872321493028e+245\n",
      "Iteration 200: w = nan, b = nan\n",
      "Iteration 300: w = nan, b = nan\n",
      "Iteration 400: w = nan, b = nan\n",
      "Iteration 500: w = nan, b = nan\n",
      "Iteration 600: w = nan, b = nan\n",
      "Iteration 700: w = nan, b = nan\n",
      "Iteration 800: w = nan, b = nan\n",
      "Iteration 900: w = nan, b = nan\n",
      "Weight: nan\n",
      "Bias: nan\n"
     ]
    },
    {
     "name": "stderr",
     "output_type": "stream",
     "text": [
      "C:\\Users\\LAPTOP HOUSE\\AppData\\Local\\Temp\\ipykernel_13008\\2283877493.py:17: RuntimeWarning: overflow encountered in scalar add\n",
      "  sumw += error * x[i]\n",
      "C:\\Users\\LAPTOP HOUSE\\AppData\\Local\\Temp\\ipykernel_13008\\2283877493.py:20: RuntimeWarning: invalid value encountered in scalar subtract\n",
      "  w -= lr * (1/n) * sumw\n"
     ]
    }
   ],
   "source": [
    "def gradient_decent(x, y, lr=0.01, iterations=1000):\n",
    "    import numpy as np\n",
    "\n",
    "    n = len(x)\n",
    "    w = 0\n",
    "    b = 0\n",
    "\n",
    "    x = np.array(x)  # Ensure x is a numpy array\n",
    "    y = np.array(y)  # Ensure y is a numpy array\n",
    "\n",
    "    while():\n",
    "        sumw = 0\n",
    "        sumb = 0\n",
    "        for i in range(n):\n",
    "            yp = w * x[i] + b\n",
    "            error = yp - y[i]\n",
    "            sumw += error * x[i]\n",
    "            sumb += error\n",
    "        \n",
    "        w -= lr * (1/n) * sumw\n",
    "        b -= lr * (1/n) * sumb\n",
    "        \n",
    "        # Optional: Print the values to debug\n",
    "        if iteration % 100 == 0:  # Print every 100 iterations\n",
    "            print(f\"Iteration {iteration}: w = {w}, b = {b}\")\n",
    "\n",
    "    return w, b\n",
    "\n",
    "# Example usage\n",
    "import pandas as pd\n",
    "\n",
    "# Assuming df is a pandas DataFrame with 'TV' and 'Sales' columns\n",
    "# df = pd.DataFrame({\n",
    "#     'TV': [1, 2, 3, 4, 5],\n",
    "#     'Sales': [2, 4, 6, 8, 10]\n",
    "# })\n",
    "\n",
    "w, b = gradient_decent(x=df['TV'], y=df[\"Sales\"])\n",
    "print(\"Weight:\", w)\n",
    "print(\"Bias:\", b)\n"
   ]
  },
  {
   "cell_type": "code",
   "execution_count": null,
   "metadata": {},
   "outputs": [],
   "source": [
    "def cost()\n",
    "for i in range df[\"TV\"]"
   ]
  },
  {
   "cell_type": "code",
   "execution_count": 51,
   "metadata": {},
   "outputs": [
    {
     "data": {
      "text/plain": [
       "<matplotlib.collections.PathCollection at 0x29f636d98b0>"
      ]
     },
     "execution_count": 51,
     "metadata": {},
     "output_type": "execute_result"
    },
    {
     "data": {
      "image/png": "[encoded data removed]",
      "text/plain": [
       "<Figure size 640x480 with 1 Axes>"
      ]
     },
     "metadata": {},
     "output_type": "display_data"
    }
   ],
   "source": [
    "import matplotlib.pyplot as plt\n",
    "\n",
    "yp =[a*x+b for x in df['TV']]\n",
    "\n",
    "plt.plot(x,y , color='red', label='Linear regression')\n",
    "plt.scatter(df[\"TV\"], yp, color='blue', label='Data points')"
   ]
  },
  {
   "cell_type": "code",
   "execution_count": 33,
   "metadata": {},
   "outputs": [
    {
     "name": "stdout",
     "output_type": "stream",
     "text": [
      "nan nan\n"
     ]
    }
   ],
   "source": [
    "import numpy as np\n",
    "\n",
    "def gradient_descent(x, y, learning_rate, epochs):\n",
    "  \"\"\"\n",
    "  Performs gradient descent to find optimal parameters for linear regression.\n",
    "\n",
    "  Args:\n",
    "    x: Independent variable (features)\n",
    "    y: Dependent variable (target)\n",
    "    learning_rate: Learning rate for gradient descent\n",
    "    epochs: Number of iterations\n",
    "\n",
    "  Returns:\n",
    "    m: Slope of the line\n",
    "    b: Intercept of the line\n",
    "  \"\"\"\n",
    "\n",
    "  n = len(x)\n",
    "  m = 0\n",
    "  b = 0\n",
    "\n",
    "  for i in range(epochs):\n",
    "    y_pred = m * x + b\n",
    "    error = y_pred - y\n",
    "    m_gradient = (2/n) * sum(x * error)\n",
    "    b_gradient = (2/n) * sum(error)\n",
    "    m = m - learning_rate * m_gradient\n",
    "    b = b - learning_rate * b_gradient\n",
    "\n",
    "  return m, b\n",
    "\n",
    "# Example usage:\n",
    "import pandas as pd\n",
    "\n",
    "# Assuming you have a DataFrame named df with columns 'TV' and 'Sales'\n",
    "x = df['TV']\n",
    "y = df['Sales']\n",
    "\n",
    "m, b = gradient_descent(x, y, learning_rate=0.01, epochs=1000)\n",
    "print(m, b)\n"
   ]
  }
 ],
 "metadata": {
  "kernelspec": {
   "display_name": "Python 3",
   "language": "python",
   "name": "python3"
  },
  "language_info": {
   "codemirror_mode": {
    "name": "ipython",
    "version": 3
   },
   "file_extension": ".py",
   "mimetype": "text/x-python",
   "name": "python",
   "nbconvert_exporter": "python",
   "pygments_lexer": "ipython3",
   "version": "3.12.4"
  }
 },
 "nbformat": 4,
 "nbformat_minor": 2
}
