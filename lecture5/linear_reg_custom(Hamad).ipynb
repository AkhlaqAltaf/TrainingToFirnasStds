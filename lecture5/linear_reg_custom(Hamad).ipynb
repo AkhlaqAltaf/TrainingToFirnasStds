{
 "cells": [
  {
   "cell_type": "code",
   "execution_count": 1,
   "metadata": {},
   "outputs": [
    {
     "data": {
      "text/html": [
       "<div>\n",
       "<style scoped>\n",
       "    .dataframe tbody tr th:only-of-type {\n",
       "        vertical-align: middle;\n",
       "    }\n",
       "\n",
       "    .dataframe tbody tr th {\n",
       "        vertical-align: top;\n",
       "    }\n",
       "\n",
       "    .dataframe thead th {\n",
       "        text-align: right;\n",
       "    }\n",
       "</style>\n",
       "<table border=\"1\" class=\"dataframe\">\n",
       "  <thead>\n",
       "    <tr style=\"text-align: right;\">\n",
       "      <th></th>\n",
       "      <th>cgpa</th>\n",
       "      <th>package</th>\n",
       "    </tr>\n",
       "  </thead>\n",
       "  <tbody>\n",
       "    <tr>\n",
       "      <th>0</th>\n",
       "      <td>6.89</td>\n",
       "      <td>3.26</td>\n",
       "    </tr>\n",
       "    <tr>\n",
       "      <th>1</th>\n",
       "      <td>5.12</td>\n",
       "      <td>1.98</td>\n",
       "    </tr>\n",
       "    <tr>\n",
       "      <th>2</th>\n",
       "      <td>7.82</td>\n",
       "      <td>3.25</td>\n",
       "    </tr>\n",
       "    <tr>\n",
       "      <th>3</th>\n",
       "      <td>7.42</td>\n",
       "      <td>3.67</td>\n",
       "    </tr>\n",
       "    <tr>\n",
       "      <th>4</th>\n",
       "      <td>6.94</td>\n",
       "      <td>3.57</td>\n",
       "    </tr>\n",
       "    <tr>\n",
       "      <th>...</th>\n",
       "      <td>...</td>\n",
       "      <td>...</td>\n",
       "    </tr>\n",
       "    <tr>\n",
       "      <th>195</th>\n",
       "      <td>6.93</td>\n",
       "      <td>2.46</td>\n",
       "    </tr>\n",
       "    <tr>\n",
       "      <th>196</th>\n",
       "      <td>5.89</td>\n",
       "      <td>2.57</td>\n",
       "    </tr>\n",
       "    <tr>\n",
       "      <th>197</th>\n",
       "      <td>7.21</td>\n",
       "      <td>3.24</td>\n",
       "    </tr>\n",
       "    <tr>\n",
       "      <th>198</th>\n",
       "      <td>7.63</td>\n",
       "      <td>3.96</td>\n",
       "    </tr>\n",
       "    <tr>\n",
       "      <th>199</th>\n",
       "      <td>6.22</td>\n",
       "      <td>2.33</td>\n",
       "    </tr>\n",
       "  </tbody>\n",
       "</table>\n",
       "<p>200 rows × 2 columns</p>\n",
       "</div>"
      ],
      "text/plain": [
       "     cgpa  package\n",
       "0    6.89     3.26\n",
       "1    5.12     1.98\n",
       "2    7.82     3.25\n",
       "3    7.42     3.67\n",
       "4    6.94     3.57\n",
       "..    ...      ...\n",
       "195  6.93     2.46\n",
       "196  5.89     2.57\n",
       "197  7.21     3.24\n",
       "198  7.63     3.96\n",
       "199  6.22     2.33\n",
       "\n",
       "[200 rows x 2 columns]"
      ]
     },
     "execution_count": 1,
     "metadata": {},
     "output_type": "execute_result"
    }
   ],
   "source": [
    "import pandas as pd\n",
    "df = pd.read_csv(\"placement.csv\")\n",
    "df"
   ]
  },
  {
   "cell_type": "code",
   "execution_count": 10,
   "metadata": {},
   "outputs": [
    {
     "name": "stdout",
     "output_type": "stream",
     "text": [
      "2.9993969849246227\n"
     ]
    }
   ],
   "source": [
    "import numpy as np\n",
    "X =np.array(df['cgpa'])\n",
    "\n",
    "\n",
    "\n",
    "y = np.array(df['package'])\n",
    "# y_25 =np.sort(y)\n",
    "y_25 = y[0:20]\n",
    "\n",
    "n =int(len(y_25)*0.10)\n",
    "# print(n)\n",
    "# print(y_25[0:n])\n",
    "\n",
    "mean= np.mean(y[0:-1])\n",
    "min =np.min(y)\n",
    "max = np.max(y)\n",
    "std =np.std(y_25)\n",
    "print(mean)\n"
   ]
  },
  {
   "cell_type": "code",
   "execution_count": 11,
   "metadata": {},
   "outputs": [],
   "source": [
    "from sklearn.model_selection import train_test_split\n",
    "X_train,X_test,y_train,y_test = train_test_split(X,y,test_size =0.2,random_state=2)\n",
    "\n"
   ]
  },
  {
   "cell_type": "code",
   "execution_count": 12,
   "metadata": {},
   "outputs": [],
   "source": [
    "# def best_intialize(X_train,y_train):\n",
    "#     for i in \n",
    "\n"
   ]
  },
  {
   "cell_type": "code",
   "execution_count": 19,
   "metadata": {},
   "outputs": [
    {
     "name": "stdout",
     "output_type": "stream",
     "text": [
      "-0.01159017983557642\n",
      "-4.9960036108132046e-17\n"
     ]
    }
   ],
   "source": [
    "\n",
    "def predict(data,w,b):\n",
    "    prediction =[w*x+b for x in data]\n",
    "    return prediction\n",
    "\n",
    "\n",
    "def improve(cost,ya,X_train,w,b):\n",
    "    lr=0.01\n",
    "    for i in range(1000):\n",
    "        #decrease value of w and b if cost is negative else increase both\n",
    "        \n",
    "        w += lr*cost*std\n",
    "        b += lr*cost\n",
    "        prediction =predict(X_train,w,b)\n",
    "        cost  = calculate_cost(ya,prediction)\n",
    "        # error = list((ya[i]-prediction[i] for i in range(len(ya))))\n",
    "        # w_grad =sum(error)/len(ya)\n",
    "        # b = sum(error)/len(ya)\n",
    "        # w += lr*w_grad\n",
    "        # b += lr*b\n",
    "        # cost  = calculate_cost(ya,prediction)\n",
    "        \n",
    "        \n",
    "    return (cost,w,b)\n",
    "    \n",
    "def calculate_cost(ya,yp):\n",
    "    # print(\"here\",ya,yp)\n",
    "    # print((ya-yp))\n",
    "    error = [(ya[i]-yp[i]) for i in range(len(ya))]\n",
    "    cost = sum(error)/len(ya)\n",
    "    \n",
    "    return cost\n",
    "def fit_model(X_train,y_train,w,b):\n",
    "    \n",
    "    prediction = predict(X_train,w,b)\n",
    "    cost  = calculate_cost(y_train,prediction)\n",
    "    # print(cost)\n",
    "    # print(\"mean value \",X_train.mean()) \n",
    "    cost,w,b = improve(cost,y_train,X_train,w,b)\n",
    "    # print(\"training\",cost)\n",
    "    prediction =predict(X_train,w,b)\n",
    "    # cost  = calculate_cost(y_test,prediction)\n",
    "    # print(prediction)\n",
    "    # print(cost,w,b)\n",
    "    return prediction,w,b,cost\n",
    "\n",
    "\n",
    "\n",
    "prediction,w,b,cost = fit_model(X_train,y_train,1,0.557)\n",
    "print(b)\n",
    "print(cost)\n",
    "# print(y_train)\n",
    "\n",
    "    \n"
   ]
  },
  {
   "cell_type": "code",
   "execution_count": 20,
   "metadata": {},
   "outputs": [
    {
     "name": "stdout",
     "output_type": "stream",
     "text": [
      "3.0686759361384244\n",
      "3.13\n"
     ]
    }
   ],
   "source": [
    "print(prediction[0])\n",
    "print(y_train[0])"
   ]
  },
  {
   "cell_type": "markdown",
   "metadata": {},
   "source": [
    "# cost is negative (-3.9859) when w=1,b=0\n",
    "# cost is negative (-5.3839875) when w=1.2,b=0\n",
    "# cost is negative (-5.8839875) when w=1.2,b=0.5\n",
    "# conclusion so by increasing value of w and b error increased in negative side , move toward negative side\n",
    "# cost is posiutive (1.10595) when w=0.2,b=0.5\n",
    "# cost is positive (1.40595) when w=0.2,b=0.2\n",
    "# conclusion by decreasing value of w and b the error moved towards positive side /\n"
   ]
  },
  {
   "cell_type": "code",
   "execution_count": 18,
   "metadata": {},
   "outputs": [
    {
     "data": {
      "text/plain": [
       "[<matplotlib.lines.Line2D at 0x1cbcecb2d50>]"
      ]
     },
     "execution_count": 18,
     "metadata": {},
     "output_type": "execute_result"
    },
    {
     "data": {
      "image/png": "[encoded data removed]",
      "text/plain": [
       "<Figure size 640x480 with 1 Axes>"
      ]
     },
     "metadata": {},
     "output_type": "display_data"
    }
   ],
   "source": [
    "import matplotlib.pyplot as plt\n",
    "plt.scatter(X_train,y_train)\n",
    "plt.plot(X_train,prediction)"
   ]
  },
  {
   "cell_type": "code",
   "execution_count": null,
   "metadata": {},
   "outputs": [],
   "source": []
  },
  {
   "cell_type": "code",
   "execution_count": null,
   "metadata": {},
   "outputs": [],
   "source": []
  }
 ],
 "metadata": {
  "kernelspec": {
   "display_name": "Python 3",
   "language": "python",
   "name": "python3"
  },
  "language_info": {
   "codemirror_mode": {
    "name": "ipython",
    "version": 3
   },
   "file_extension": ".py",
   "mimetype": "text/x-python",
   "name": "python",
   "nbconvert_exporter": "python",
   "pygments_lexer": "ipython3",
   "version": "3.12.2"
  }
 },
 "nbformat": 4,
 "nbformat_minor": 2
}
