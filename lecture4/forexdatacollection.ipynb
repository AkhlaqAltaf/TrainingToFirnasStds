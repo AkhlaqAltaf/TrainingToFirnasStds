{
 "cells": [
  {
   "cell_type": "code",
   "execution_count": 7,
   "metadata": {},
   "outputs": [],
   "source": [
    "API= 'CLU7FWVWV0Y5L7Z1'\n"
   ]
  },
  {
   "cell_type": "code",
   "execution_count": 11,
   "metadata": {},
   "outputs": [
    {
     "name": "stdout",
     "output_type": "stream",
     "text": [
      "API response does not contain expected data\n"
     ]
    }
   ],
   "source": [
    "import requests\n",
    "import pandas as pd\n",
    "\n",
    "# Replace 'YOUR_API_KEY' with your actual Alpha Vantage API key\n",
    "api_key = API\n",
    "\n",
    "# Function to fetch intraday forex data\n",
    "def get_intraday_forex_data(from_currency, to_currency, interval, start_date, end_date, api_key):\n",
    "    url = f'https://www.alphavantage.co/query?function=TIME_SERIES_INTRADAY&symbol={to_currency}&interval={interval}&apikey={api_key}'\n",
    "    response = requests.get(url)\n",
    "    data = response.json()\n",
    "    \n",
    "    # Check if the response contains the 'Time Series FX (5min)' key (or whatever interval you chose)\n",
    "    time_series_key = f'Time Series FX ({interval})'\n",
    "    if time_series_key not in data:\n",
    "        raise ValueError('API response does not contain expected data')\n",
    "\n",
    "    # Parse the data\n",
    "    df = pd.DataFrame(data[time_series_key]).T\n",
    "    df.index = pd.to_datetime(df.index)\n",
    "    df = df.sort_index()\n",
    "\n",
    "    # Filter the data by date range\n",
    "    mask = (df.index >= start_date) & (df.index <= end_date)\n",
    "    df = df.loc[mask]\n",
    "\n",
    "    # Rename columns for easier access\n",
    "    df.columns = ['Open', 'High', 'Low', 'Close']\n",
    "    df = df.apply(pd.to_numeric)\n",
    "\n",
    "    return df\n",
    "\n",
    "# Example usage\n",
    "from_currency = 'EUR'\n",
    "to_currency = 'USD'\n",
    "interval = '5min'  # Choose an interval like '1min', '5min', '15min', '30min', '60min'\n",
    "start_date = '2023-01-01'\n",
    "end_date = '2023-12-31'\n",
    "\n",
    "try:\n",
    "    forex_data = get_intraday_forex_data(from_currency, to_currency, interval, start_date, end_date, api_key)\n",
    "    print(forex_data)\n",
    "    # Save to CSV\n",
    "    forex_data.to_csv('historical_gold_data2.csv')\n",
    "except ValueError as e:\n",
    "    print(e)\n"
   ]
  }
 ],
 "metadata": {
  "kernelspec": {
   "display_name": "Python 3",
   "language": "python",
   "name": "python3"
  },
  "language_info": {
   "codemirror_mode": {
    "name": "ipython",
    "version": 3
   },
   "file_extension": ".py",
   "mimetype": "text/x-python",
   "name": "python",
   "nbconvert_exporter": "python",
   "pygments_lexer": "ipython3",
   "version": "3.12.4"
  }
 },
 "nbformat": 4,
 "nbformat_minor": 2
}
